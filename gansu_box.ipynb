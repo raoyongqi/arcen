{
 "cells": [
  {
   "cell_type": "code",
   "execution_count": 1,
   "id": "1f962a53",
   "metadata": {},
   "outputs": [],
   "source": [
    "import arcpy\n",
    "import os\n",
    "\n",
    "# 定义坐标 (左下角、右下角、右上角、左上角)\n",
    "coordinates = [\n",
    "    [92, 32],   # 左下角\n",
    "    [109, 32],  # 右下角\n",
    "    [109, 43],  # 右上角\n",
    "    [92, 43],   # 左上角\n",
    "    [92, 32]    # 回到左下角\n",
    "]\n",
    "# 创建空间参考（例如：WGS 1984）\n",
    "spatial_ref = arcpy.SpatialReference(4326)  # WGS 1984\n",
    "\n",
    "# 创建多边形，并指定空间参考\n",
    "polygon = arcpy.Polygon(arcpy.Array([arcpy.Point(*coord) for coord in coordinates]), spatial_ref)\n",
    "\n",
    "# 获取当前路径\n",
    "current_path = r\"C:\\Users\\r\\Desktop\\arcen\"\n",
    "\n",
    "# 指定 gansu_loc 文件夹路径\n",
    "loc_folder = os.path.join(current_path, \"arcen\", \"gansu_loc\")\n",
    "\n",
    "# 如果 gansu_loc 文件夹不存在，创建它\n",
    "if not os.path.exists(loc_folder):\n",
    "    os.makedirs(loc_folder)\n",
    "\n",
    "# 创建一个新的要素类并保存多边形到 gansu_loc 文件夹\n",
    "gdb_path = os.path.join(loc_folder, \"gansu_loc.gdb\")\n",
    "arcpy.management.CreateFileGDB(loc_folder, \"gansu_loc\")  # 创建 gansu_loc.gdb\n",
    "arcpy.management.CreateFeatureclass(gdb_path, \"gansu_loc\", \"POLYGON\", spatial_reference=spatial_ref)  # 创建 gansu_loc 要素类，并指定空间参考\n",
    "\n",
    "# 插入多边形到要素类\n",
    "with arcpy.da.InsertCursor(os.path.join(gdb_path, \"gansu_loc\"), [\"SHAPE@\"]) as cursor:\n",
    "    cursor.insertRow([polygon])\n",
    "\n",
    "# 设置符号系统\n",
    "aprx_path = r\"C:\\Users\\r\\Desktop\\arcen\\arcen\\arcen.aprx\"  # 指定 .aprx 文件的路径\n",
    "aprx = arcpy.mp.ArcGISProject(aprx_path)  # 加载指定的项目文件\n",
    "map_obj = aprx.listMaps()[0]  # 获取第一个地图\n",
    "lyr = map_obj.addDataFromPath(os.path.join(gdb_path, \"gansu_loc\"))  # 添加数据到地图\n",
    "sym = lyr.symbology  # 获取符号系统\n",
    "sym.renderer.symbol.color = {'RGB': [255, 0, 0, 100]}  # 设置红色\n",
    "lyr.symbology = sym  # 应用符号系统\n",
    "\n",
    "# Optional: Save the project if you want to keep the changes\n",
    "aprx.save()"
   ]
  },
  {
   "cell_type": "code",
   "execution_count": null,
   "id": "74076793",
   "metadata": {},
   "outputs": [],
   "source": []
  }
 ],
 "metadata": {
  "kernelspec": {
   "display_name": "Python 3",
   "language": "python",
   "name": "python3"
  }
 },
 "nbformat": 4,
 "nbformat_minor": 5
}
