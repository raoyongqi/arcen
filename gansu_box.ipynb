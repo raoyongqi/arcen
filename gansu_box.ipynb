{
 "cells": [
  {
   "cell_type": "code",
   "execution_count": 2,
   "id": "1f962a53",
   "metadata": {},
   "outputs": [
    {
     "ename": "ExecuteError",
     "evalue": "ERROR 000258: 输出 C:\\Users\\r\\Desktop\\arcen\\arcen\\gansu_loc\\gansu_loc.gdb 已存在\nFailed to execute (CreateFileGDB).\n",
     "output_type": "error",
     "traceback": [
      "\u001b[1;31m---------------------------------------------------------------------------\u001b[0m",
      "\u001b[1;31mExecuteError\u001b[0m                              Traceback (most recent call last)",
      "\u001b[1;32m<ipython-input-2-6ed272bc5333>\u001b[0m in \u001b[0;36m<module>\u001b[1;34m\u001b[0m\n\u001b[0;32m     26\u001b[0m \u001b[1;31m# 创建一个新的要素类并保存多边形到 gansu_loc 文件夹\u001b[0m\u001b[1;33m\u001b[0m\u001b[1;33m\u001b[0m\u001b[0m\n\u001b[0;32m     27\u001b[0m \u001b[0mgdb_path\u001b[0m \u001b[1;33m=\u001b[0m \u001b[0mos\u001b[0m\u001b[1;33m.\u001b[0m\u001b[0mpath\u001b[0m\u001b[1;33m.\u001b[0m\u001b[0mjoin\u001b[0m\u001b[1;33m(\u001b[0m\u001b[0mloc_folder\u001b[0m\u001b[1;33m,\u001b[0m \u001b[1;34m\"gansu_loc.gdb\"\u001b[0m\u001b[1;33m)\u001b[0m\u001b[1;33m\u001b[0m\u001b[1;33m\u001b[0m\u001b[0m\n\u001b[1;32m---> 28\u001b[1;33m \u001b[0marcpy\u001b[0m\u001b[1;33m.\u001b[0m\u001b[0mmanagement\u001b[0m\u001b[1;33m.\u001b[0m\u001b[0mCreateFileGDB\u001b[0m\u001b[1;33m(\u001b[0m\u001b[0mloc_folder\u001b[0m\u001b[1;33m,\u001b[0m \u001b[1;34m\"gansu_loc\"\u001b[0m\u001b[1;33m)\u001b[0m  \u001b[1;31m# 创建 gansu_loc.gdb\u001b[0m\u001b[1;33m\u001b[0m\u001b[1;33m\u001b[0m\u001b[0m\n\u001b[0m\u001b[0;32m     29\u001b[0m \u001b[0marcpy\u001b[0m\u001b[1;33m.\u001b[0m\u001b[0mmanagement\u001b[0m\u001b[1;33m.\u001b[0m\u001b[0mCreateFeatureclass\u001b[0m\u001b[1;33m(\u001b[0m\u001b[0mgdb_path\u001b[0m\u001b[1;33m,\u001b[0m \u001b[1;34m\"gansu_loc\"\u001b[0m\u001b[1;33m,\u001b[0m \u001b[1;34m\"POLYGON\"\u001b[0m\u001b[1;33m)\u001b[0m  \u001b[1;31m# 创建 gansu_loc 要素类\u001b[0m\u001b[1;33m\u001b[0m\u001b[1;33m\u001b[0m\u001b[0m\n\u001b[0;32m     30\u001b[0m \u001b[1;33m\u001b[0m\u001b[0m\n",
      "\u001b[1;32mC:\\ArcGIS\\Pro\\Resources\\ArcPy\\arcpy\\management.py\u001b[0m in \u001b[0;36mCreateFileGDB\u001b[1;34m(out_folder_path, out_name, out_version)\u001b[0m\n\u001b[0;32m  24889\u001b[0m         \u001b[1;32mreturn\u001b[0m \u001b[0mretval\u001b[0m\u001b[1;33m\u001b[0m\u001b[1;33m\u001b[0m\u001b[0m\n\u001b[0;32m  24890\u001b[0m     \u001b[1;32mexcept\u001b[0m \u001b[0mException\u001b[0m \u001b[1;32mas\u001b[0m \u001b[0me\u001b[0m\u001b[1;33m:\u001b[0m\u001b[1;33m\u001b[0m\u001b[1;33m\u001b[0m\u001b[0m\n\u001b[1;32m> 24891\u001b[1;33m         \u001b[1;32mraise\u001b[0m \u001b[0me\u001b[0m\u001b[1;33m\u001b[0m\u001b[1;33m\u001b[0m\u001b[0m\n\u001b[0m\u001b[0;32m  24892\u001b[0m \u001b[1;33m\u001b[0m\u001b[0m\n\u001b[0;32m  24893\u001b[0m \u001b[1;33m@\u001b[0m\u001b[0mgptooldoc\u001b[0m\u001b[1;33m(\u001b[0m\u001b[1;34m'CreateFolder_management'\u001b[0m\u001b[1;33m,\u001b[0m \u001b[1;32mNone\u001b[0m\u001b[1;33m)\u001b[0m\u001b[1;33m\u001b[0m\u001b[1;33m\u001b[0m\u001b[0m\n",
      "\u001b[1;32mC:\\ArcGIS\\Pro\\Resources\\ArcPy\\arcpy\\management.py\u001b[0m in \u001b[0;36mCreateFileGDB\u001b[1;34m(out_folder_path, out_name, out_version)\u001b[0m\n\u001b[0;32m  24886\u001b[0m     \u001b[1;32mfrom\u001b[0m \u001b[0marcpy\u001b[0m\u001b[1;33m.\u001b[0m\u001b[0marcobjects\u001b[0m\u001b[1;33m.\u001b[0m\u001b[0marcobjectconversion\u001b[0m \u001b[1;32mimport\u001b[0m \u001b[0mconvertArcObjectToPythonObject\u001b[0m\u001b[1;33m\u001b[0m\u001b[1;33m\u001b[0m\u001b[0m\n\u001b[0;32m  24887\u001b[0m     \u001b[1;32mtry\u001b[0m\u001b[1;33m:\u001b[0m\u001b[1;33m\u001b[0m\u001b[1;33m\u001b[0m\u001b[0m\n\u001b[1;32m> 24888\u001b[1;33m         \u001b[0mretval\u001b[0m \u001b[1;33m=\u001b[0m \u001b[0mconvertArcObjectToPythonObject\u001b[0m\u001b[1;33m(\u001b[0m\u001b[0mgp\u001b[0m\u001b[1;33m.\u001b[0m\u001b[0mCreateFileGDB_management\u001b[0m\u001b[1;33m(\u001b[0m\u001b[1;33m*\u001b[0m\u001b[0mgp_fixargs\u001b[0m\u001b[1;33m(\u001b[0m\u001b[1;33m(\u001b[0m\u001b[0mout_folder_path\u001b[0m\u001b[1;33m,\u001b[0m \u001b[0mout_name\u001b[0m\u001b[1;33m,\u001b[0m \u001b[0mout_version\u001b[0m\u001b[1;33m)\u001b[0m\u001b[1;33m,\u001b[0m \u001b[1;32mTrue\u001b[0m\u001b[1;33m)\u001b[0m\u001b[1;33m)\u001b[0m\u001b[1;33m)\u001b[0m\u001b[1;33m\u001b[0m\u001b[1;33m\u001b[0m\u001b[0m\n\u001b[0m\u001b[0;32m  24889\u001b[0m         \u001b[1;32mreturn\u001b[0m \u001b[0mretval\u001b[0m\u001b[1;33m\u001b[0m\u001b[1;33m\u001b[0m\u001b[0m\n\u001b[0;32m  24890\u001b[0m     \u001b[1;32mexcept\u001b[0m \u001b[0mException\u001b[0m \u001b[1;32mas\u001b[0m \u001b[0me\u001b[0m\u001b[1;33m:\u001b[0m\u001b[1;33m\u001b[0m\u001b[1;33m\u001b[0m\u001b[0m\n",
      "\u001b[1;32mC:\\ArcGIS\\Pro\\Resources\\ArcPy\\arcpy\\geoprocessing\\_base.py\u001b[0m in \u001b[0;36m<lambda>\u001b[1;34m(*args)\u001b[0m\n\u001b[0;32m    510\u001b[0m         \u001b[0mval\u001b[0m \u001b[1;33m=\u001b[0m \u001b[0mgetattr\u001b[0m\u001b[1;33m(\u001b[0m\u001b[0mself\u001b[0m\u001b[1;33m.\u001b[0m\u001b[0m_gp\u001b[0m\u001b[1;33m,\u001b[0m \u001b[0mattr\u001b[0m\u001b[1;33m)\u001b[0m\u001b[1;33m\u001b[0m\u001b[1;33m\u001b[0m\u001b[0m\n\u001b[0;32m    511\u001b[0m         \u001b[1;32mif\u001b[0m \u001b[0mcallable\u001b[0m\u001b[1;33m(\u001b[0m\u001b[0mval\u001b[0m\u001b[1;33m)\u001b[0m\u001b[1;33m:\u001b[0m\u001b[1;33m\u001b[0m\u001b[1;33m\u001b[0m\u001b[0m\n\u001b[1;32m--> 512\u001b[1;33m             \u001b[1;32mreturn\u001b[0m \u001b[1;32mlambda\u001b[0m \u001b[1;33m*\u001b[0m\u001b[0margs\u001b[0m\u001b[1;33m:\u001b[0m \u001b[0mval\u001b[0m\u001b[1;33m(\u001b[0m\u001b[1;33m*\u001b[0m\u001b[0mgp_fixargs\u001b[0m\u001b[1;33m(\u001b[0m\u001b[0margs\u001b[0m\u001b[1;33m,\u001b[0m \u001b[1;32mTrue\u001b[0m\u001b[1;33m)\u001b[0m\u001b[1;33m)\u001b[0m\u001b[1;33m\u001b[0m\u001b[1;33m\u001b[0m\u001b[0m\n\u001b[0m\u001b[0;32m    513\u001b[0m         \u001b[1;32melse\u001b[0m\u001b[1;33m:\u001b[0m\u001b[1;33m\u001b[0m\u001b[1;33m\u001b[0m\u001b[0m\n\u001b[0;32m    514\u001b[0m             \u001b[1;32mreturn\u001b[0m \u001b[0mconvertArcObjectToPythonObject\u001b[0m\u001b[1;33m(\u001b[0m\u001b[0mval\u001b[0m\u001b[1;33m)\u001b[0m\u001b[1;33m\u001b[0m\u001b[1;33m\u001b[0m\u001b[0m\n",
      "\u001b[1;31mExecuteError\u001b[0m: ERROR 000258: 输出 C:\\Users\\r\\Desktop\\arcen\\arcen\\gansu_loc\\gansu_loc.gdb 已存在\nFailed to execute (CreateFileGDB).\n"
     ]
    }
   ],
   "source": [
    "import arcpy\n",
    "import os\n",
    "\n",
    "# 定义坐标 (左下角、右下角、右上角、左上角)\n",
    "coordinates = [\n",
    "    [92, 32],   # 左下角\n",
    "    [109, 32],  # 右下角\n",
    "    [109, 43],  # 右上角\n",
    "    [92, 43],   # 左上角\n",
    "    [92, 32]    # 回到左下角\n",
    "]\n",
    "\n",
    "# 创建多边形\n",
    "polygon = arcpy.Polygon(arcpy.Array([arcpy.Point(*coord) for coord in coordinates]))\n",
    "\n",
    "# 获取当前路径\n",
    "current_path = os.getcwd()\n",
    "\n",
    "# 指定 gansu_loc 文件夹路径\n",
    "loc_folder = os.path.join(current_path, \"gansu_loc\")\n",
    "\n",
    "# 如果 gansu_loc 文件夹不存在，创建它\n",
    "if not os.path.exists(loc_folder):\n",
    "    os.makedirs(loc_folder)\n",
    "\n",
    "# 创建一个新的要素类并保存多边形到 gansu_loc 文件夹\n",
    "gdb_path = os.path.join(loc_folder, \"gansu_loc.gdb\")\n",
    "arcpy.management.CreateFileGDB(loc_folder, \"gansu_loc\")  # 创建 gansu_loc.gdb\n",
    "arcpy.management.CreateFeatureclass(gdb_path, \"gansu_loc\", \"POLYGON\")  # 创建 gansu_loc 要素类\n",
    "\n",
    "# 插入多边形到要素类\n",
    "with arcpy.da.InsertCursor(os.path.join(gdb_path, \"gansu_loc\"), [\"SHAPE@\"]) as cursor:\n",
    "    cursor.insertRow([polygon])\n",
    "\n",
    "# 设置符号系统\n",
    "aprx_path = r\"C:\\Users\\r\\Desktop\\arcen\\arcen\\arcen.aprx\"  # 指定 .aprx 文件的路径\n",
    "aprx = arcpy.mp.ArcGISProject(aprx_path)  # 加载指定的项目文件\n",
    "map_obj = aprx.listMaps()[0]  # 获取第一个地图\n",
    "lyr = map_obj.addDataFromPath(os.path.join(gdb_path, \"gansu_loc\"))  # 添加数据到地图\n",
    "sym = lyr.symbology  # 获取符号系统\n",
    "sym.renderer.symbol.color = {'RGB': [255, 0, 0, 100]}  # 设置红色\n",
    "lyr.symbology = sym  # 应用符号系统\n",
    "\n",
    "# Optional: Save the project if you want to keep the changes\n",
    "aprx.save()\n"
   ]
  },
  {
   "cell_type": "code",
   "execution_count": null,
   "id": "74076793",
   "metadata": {},
   "outputs": [],
   "source": []
  }
 ],
 "metadata": {
  "kernelspec": {
   "display_name": "Python 3",
   "language": "python",
   "name": "python3"
  },
  "language_info": {
   "codemirror_mode": {
    "name": "ipython",
    "version": 3
   },
   "file_extension": ".py",
   "mimetype": "text/x-python",
   "name": "python",
   "nbconvert_exporter": "python",
   "pygments_lexer": "ipython3",
   "version": "3.9.11"
  }
 },
 "nbformat": 4,
 "nbformat_minor": 5
}
