{
 "cells": [
  {
   "cell_type": "code",
   "execution_count": null,
   "id": "1f962a53",
   "metadata": {},
   "outputs": [],
   "source": [
    "import arcpy\n",
    "import os\n",
    "\n",
    "# 定义坐标 (左下角、右下角、右上角、左上角)\n",
    "coordinates = [\n",
    "[78, 26], [78, 37], [100, 37], [100, 26]\n",
    "]\n",
    "\n",
    "# 创建空间参考（例如：WGS 1984）\n",
    "spatial_ref = arcpy.SpatialReference(4326)  # WGS 1984\n",
    "\n",
    "# 创建多边形，并指定空间参考\n",
    "polygon = arcpy.Polygon(arcpy.Array([arcpy.Point(*coord) for coord in coordinates]), spatial_ref)\n",
    "\n",
    "# 获取当前路径\n",
    "current_path = r\"C:\\Users\\r\\Desktop\\arcen\"\n",
    "\n",
    "# 指定 xizang_loc 文件夹路径\n",
    "loc_folder = os.path.join(current_path, \"arcen\", \"xizang_loc\")\n",
    "\n",
    "# 如果 xizang_loc 文件夹不存在，创建它\n",
    "if not os.path.exists(loc_folder):\n",
    "    os.makedirs(loc_folder)\n",
    "\n",
    "# 创建一个新的要素类并保存多边形到 xizang_loc 文件夹\n",
    "gdb_path = os.path.join(loc_folder, \"xizang_loc.gdb\")\n",
    "arcpy.management.CreateFileGDB(loc_folder, \"xizang_loc\")  # 创建 xizang_loc.gdb\n",
    "arcpy.management.CreateFeatureclass(gdb_path, \"xizang_loc\", \"POLYGON\", spatial_reference=spatial_ref)  # 创建 xizang_loc 要素类，并指定空间参考\n",
    "\n",
    "# 插入多边形到要素类\n",
    "with arcpy.da.InsertCursor(os.path.join(gdb_path, \"xizang_loc\"), [\"SHAPE@\"]) as cursor:\n",
    "    cursor.insertRow([polygon])\n",
    "\n",
    "# 设置符号系统\n",
    "aprx_path = r\"C:\\Users\\r\\Desktop\\arcen\\arcen\\arcen.aprx\"  # 指定 .aprx 文件的路径\n",
    "aprx = arcpy.mp.ArcGISProject(aprx_path)  # 加载指定的项目文件\n",
    "map_obj = aprx.listMaps()[0]  # 获取第一个地图\n",
    "lyr = map_obj.addDataFromPath(os.path.join(gdb_path, \"xizang_loc\"))  # 添加数据到地图\n",
    "sym = lyr.symbology  # 获取符号系统\n",
    "sym.renderer.symbol.color = {'RGB': [255, 0, 0, 100]}  # 设置红色\n",
    "lyr.symbology = sym  # 应用符号系统\n",
    "\n",
    "# Optional: Save the project if you want to keep the changes\n",
    "aprx.save()"
   ]
  },
  {
   "cell_type": "code",
   "execution_count": 7,
   "id": "74076793",
   "metadata": {},
   "outputs": [
    {
     "name": "stdout",
     "output_type": "stream",
     "text": [
      "当前 Notebook 的绝对路径: C:\\ArcGIS\\Pro\\bin\\Python\\envs\\arcgispro-py3\\lib\\site-packages\\ipykernel_launcher.py\n"
     ]
    }
   ],
   "source": [
    "import os\n",
    "import json\n",
    "from notebook import notebookapp\n",
    "import urllib\n",
    "\n",
    "# 获取当前正在运行的 Notebook 的路径\n",
    "def get_notebook_path():\n",
    "    # 获取当前活动的 Notebook 服务器信息\n",
    "    kernels = notebookapp.list_running_servers()\n",
    "    for kernel in kernels:\n",
    "        if kernel['notebook_dir']:\n",
    "            return kernel['notebook_dir']\n",
    "    return None\n",
    "\n",
    "def get_notebook_name():\n",
    "    import requests\n",
    "    response = requests.get('http://localhost:8888/api/sessions')\n",
    "    notebooks = response.json()\n",
    "    for notebook in notebooks:\n",
    "        return notebook['notebook']['path']\n",
    "\n",
    "notebook_dir = get_notebook_path()\n",
    "notebook_name = get_notebook_name()\n",
    "notebook_path = os.path.join(notebook_dir, notebook_name)\n",
    "\n",
    "print(\"当前 Notebook 的绝对路径:\", os.path.abspath(notebook_path))\n"
   ]
  }
 ],
 "metadata": {
  "kernelspec": {
   "display_name": "Python 3",
   "language": "python",
   "name": "python3"
  },
  "language_info": {
   "codemirror_mode": {
    "name": "ipython",
    "version": 3
   },
   "file_extension": ".py",
   "mimetype": "text/x-python",
   "name": "python",
   "nbconvert_exporter": "python",
   "pygments_lexer": "ipython3",
   "version": "3.9.11"
  }
 },
 "nbformat": 4,
 "nbformat_minor": 5
}
