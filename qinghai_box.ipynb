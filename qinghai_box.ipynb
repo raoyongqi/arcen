{
 "cells": [
  {
   "cell_type": "code",
   "execution_count": 1,
   "id": "1f962a53",
   "metadata": {},
   "outputs": [
    {
     "ename": "OSError",
     "evalue": "C:\\Users\\r\\Desktop\\arcen\\arcen\\arcen.aprx",
     "output_type": "error",
     "traceback": [
      "\u001b[1;31m---------------------------------------------------------------------------\u001b[0m",
      "\u001b[1;31mOSError\u001b[0m                                   Traceback (most recent call last)",
      "\u001b[1;32m<ipython-input-1-6f9b082f4fef>\u001b[0m in \u001b[0;36m<module>\u001b[1;34m\u001b[0m\n\u001b[0;32m     39\u001b[0m \u001b[1;33m\u001b[0m\u001b[0m\n\u001b[0;32m     40\u001b[0m \u001b[1;31m# Optional: Save the project if you want to keep the changes\u001b[0m\u001b[1;33m\u001b[0m\u001b[1;33m\u001b[0m\u001b[0m\n\u001b[1;32m---> 41\u001b[1;33m \u001b[0maprx\u001b[0m\u001b[1;33m.\u001b[0m\u001b[0msave\u001b[0m\u001b[1;33m(\u001b[0m\u001b[1;33m)\u001b[0m\u001b[1;33m\u001b[0m\u001b[1;33m\u001b[0m\u001b[0m\n\u001b[0m",
      "\u001b[1;32mC:\\ArcGIS\\Pro\\Resources\\ArcPy\\arcpy\\_mp.py\u001b[0m in \u001b[0;36msave\u001b[1;34m(self)\u001b[0m\n\u001b[0;32m    306\u001b[0m         \u001b[0mSaves\u001b[0m \u001b[0mchanges\u001b[0m \u001b[0mto\u001b[0m \u001b[0man\u001b[0m \u001b[0mArcGISProject\u001b[0m \u001b[1;33m(\u001b[0m\u001b[1;33m.\u001b[0m\u001b[0maprx\u001b[0m\u001b[1;33m)\u001b[0m\u001b[1;33m.\u001b[0m\u001b[1;33m\u001b[0m\u001b[1;33m\u001b[0m\u001b[0m\n\u001b[0;32m    307\u001b[0m         \"\"\"\n\u001b[1;32m--> 308\u001b[1;33m         \u001b[1;32mreturn\u001b[0m \u001b[0mconvertArcObjectToPythonObject\u001b[0m\u001b[1;33m(\u001b[0m\u001b[0mself\u001b[0m\u001b[1;33m.\u001b[0m\u001b[0m_arc_object\u001b[0m\u001b[1;33m.\u001b[0m\u001b[0msave\u001b[0m\u001b[1;33m(\u001b[0m\u001b[1;33m*\u001b[0m\u001b[0mgp_fixargs\u001b[0m\u001b[1;33m(\u001b[0m\u001b[1;33m(\u001b[0m\u001b[1;33m)\u001b[0m\u001b[1;33m,\u001b[0m \u001b[1;32mTrue\u001b[0m\u001b[1;33m)\u001b[0m\u001b[1;33m)\u001b[0m\u001b[1;33m)\u001b[0m\u001b[1;33m\u001b[0m\u001b[1;33m\u001b[0m\u001b[0m\n\u001b[0m\u001b[0;32m    309\u001b[0m \u001b[1;33m\u001b[0m\u001b[0m\n\u001b[0;32m    310\u001b[0m     \u001b[1;32mdef\u001b[0m \u001b[0msaveACopy\u001b[0m\u001b[1;33m(\u001b[0m\u001b[0mself\u001b[0m\u001b[1;33m,\u001b[0m \u001b[0mfile_name\u001b[0m\u001b[1;33m)\u001b[0m\u001b[1;33m:\u001b[0m\u001b[1;33m\u001b[0m\u001b[1;33m\u001b[0m\u001b[0m\n",
      "\u001b[1;31mOSError\u001b[0m: C:\\Users\\r\\Desktop\\arcen\\arcen\\arcen.aprx"
     ]
    }
   ],
   "source": [
    "import arcpy\n",
    "import os\n",
    "\n",
    "# 定义坐标 (左下角、右下角、右上角、左上角)\n",
    "coordinates = [\n",
    "[89, 31], [89, 40], [105, 40], [105, 31]\n",
    "]\n",
    "\n",
    "# 创建多边形\n",
    "polygon = arcpy.Polygon(arcpy.Array([arcpy.Point(*coord) for coord in coordinates]))\n",
    "\n",
    "# 获取当前路径\n",
    "current_path = r\"C:\\Users\\r\\Desktop\\arcen\"\n",
    "\n",
    "# 指定 qinghai_loc 文件夹路径\n",
    "loc_folder = os.path.join(current_path, \"arcen\", \"qinghai_loc\")\n",
    "\n",
    "# 如果 qinghai_loc 文件夹不存在，创建它\n",
    "if not os.path.exists(loc_folder):\n",
    "    os.makedirs(loc_folder)\n",
    "\n",
    "# 创建一个新的要素类并保存多边形到 qinghai_loc 文件夹\n",
    "gdb_path = os.path.join(loc_folder, \"qinghai_loc.gdb\")\n",
    "arcpy.management.CreateFileGDB(loc_folder, \"qinghai_loc\")  # 创建 qinghai_loc.gdb\n",
    "arcpy.management.CreateFeatureclass(gdb_path, \"qinghai_loc\", \"POLYGON\")  # 创建 qinghai_loc 要素类\n",
    "\n",
    "# 插入多边形到要素类\n",
    "with arcpy.da.InsertCursor(os.path.join(gdb_path, \"qinghai_loc\"), [\"SHAPE@\"]) as cursor:\n",
    "    cursor.insertRow([polygon])\n",
    "\n",
    "# 设置符号系统\n",
    "aprx_path = r\"C:\\Users\\r\\Desktop\\arcen\\arcen\\arcen.aprx\"  # 指定 .aprx 文件的路径\n",
    "aprx = arcpy.mp.ArcGISProject(aprx_path)  # 加载指定的项目文件\n",
    "map_obj = aprx.listMaps()[0]  # 获取第一个地图\n",
    "lyr = map_obj.addDataFromPath(os.path.join(gdb_path, \"qinghai_loc\"))  # 添加数据到地图\n",
    "sym = lyr.symbology  # 获取符号系统\n",
    "sym.renderer.symbol.color = {'RGB': [255, 0, 0, 100]}  # 设置红色\n",
    "lyr.symbology = sym  # 应用符号系统\n",
    "\n",
    "# Optional: Save the project if you want to keep the changes\n",
    "aprx.save()\n"
   ]
  },
  {
   "cell_type": "code",
   "execution_count": null,
   "id": "74076793",
   "metadata": {},
   "outputs": [],
   "source": []
  }
 ],
 "metadata": {
  "kernelspec": {
   "display_name": "Python 3",
   "language": "python",
   "name": "python3"
  },
  "language_info": {
   "codemirror_mode": {
    "name": "ipython",
    "version": 3
   },
   "file_extension": ".py",
   "mimetype": "text/x-python",
   "name": "python",
   "nbconvert_exporter": "python",
   "pygments_lexer": "ipython3",
   "version": "3.9.11"
  }
 },
 "nbformat": 4,
 "nbformat_minor": 5
}
